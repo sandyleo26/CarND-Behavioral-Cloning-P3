{
 "cells": [
  {
   "cell_type": "markdown",
   "metadata": {},
   "source": [
    "Behavioral Cloning P3\n",
    "--"
   ]
  },
  {
   "cell_type": "code",
   "execution_count": 1,
   "metadata": {},
   "outputs": [
    {
     "name": "stderr",
     "output_type": "stream",
     "text": [
      "Using TensorFlow backend.\n"
     ]
    }
   ],
   "source": [
    "from keras.models import Sequential, Model\n",
    "from keras.layers import Dense, Dropout, Activation, Flatten, Input, Lambda, Cropping2D\n",
    "from keras.layers import Convolution2D, MaxPooling2D\n",
    "from keras.utils import np_utils\n",
    "from keras.models import load_model\n",
    "import csv\n",
    "import cv2\n",
    "import numpy as np\n",
    "from sklearn.model_selection import train_test_split\n",
    "import sklearn\n",
    "from random import shuffle"
   ]
  },
  {
   "cell_type": "code",
   "execution_count": 15,
   "metadata": {
    "collapsed": true
   },
   "outputs": [],
   "source": [
    "angle_adjust = [0, 0.2, -0.2]\n",
    "def generator(samples, batch_size=32):\n",
    "    num_samples = len(samples)\n",
    "    while 1: # Loop forever so the generator never terminates\n",
    "        shuffle(samples)\n",
    "        for offset in range(0, num_samples, batch_size):\n",
    "            batch_samples = samples[offset:offset+batch_size]\n",
    "\n",
    "            images = []\n",
    "            angles = []\n",
    "            for batch_sample in batch_samples:\n",
    "                # center, left, right\n",
    "                for i in range(3):\n",
    "                    name = './IMG/' + batch_sample[i].split('/')[-1]\n",
    "                    image = cv2.imread(name)\n",
    "                    image = cv2.cvtColor(image, cv2.COLOR_BGR2RGB)\n",
    "                    angle = float(batch_sample[3]) + angle_adjust[i]\n",
    "                    images.append(image)\n",
    "                    angles.append(angle)\n",
    "                    # flip image and angle\n",
    "                    image_flipped = np.fliplr(image)\n",
    "                    angle_flipped = -angle\n",
    "                    images.append(image_flipped)\n",
    "                    angles.append(angle_flipped)\n",
    "\n",
    "            # trim image to only see section with road\n",
    "            X_train = np.array(images)\n",
    "            y_train = np.array(angles)\n",
    "            yield sklearn.utils.shuffle(X_train, y_train)"
   ]
  },
  {
   "cell_type": "code",
   "execution_count": 22,
   "metadata": {
    "collapsed": true
   },
   "outputs": [],
   "source": [
    "samples = []\n",
    "with open('./driving_log.csv') as csvfile:\n",
    "    reader = csv.reader(csvfile)\n",
    "    for line in reader:\n",
    "        samples.append(line)\n",
    "\n",
    "BATCH_SIZE = 8\n",
    "NB_EPOCH = 10\n",
    "nb_filters_conv1 = 32\n",
    "nb_filters_conv2 = 64\n",
    "kernel_size = (3, 3)\n",
    "pool_size = (2, 2)\n",
    "\n",
    "train_samples, validation_samples = train_test_split(samples, test_size=0.2)\n",
    "train_generator = generator(train_samples, batch_size=BATCH_SIZE)\n",
    "validation_generator = generator(validation_samples, batch_size=BATCH_SIZE)"
   ]
  },
  {
   "cell_type": "code",
   "execution_count": 23,
   "metadata": {},
   "outputs": [
    {
     "name": "stdout",
     "output_type": "stream",
     "text": [
      "Epoch 1/10\n",
      "1344/1360 [============================>.] - ETA: 0s - loss: 0.2718"
     ]
    },
    {
     "name": "stderr",
     "output_type": "stream",
     "text": [
      "/home/carnd/anaconda3/envs/carnd-term1/lib/python3.5/site-packages/keras/engine/training.py:1569: UserWarning: Epoch comprised more than `samples_per_epoch` samples, which might affect learning results. Set `samples_per_epoch` correctly to avoid this warning.\n",
      "  warnings.warn('Epoch comprised more than '\n"
     ]
    },
    {
     "name": "stdout",
     "output_type": "stream",
     "text": [
      "1392/1360 [==============================] - 10s - loss: 0.2633 - val_loss: 0.0346\n",
      "Epoch 2/10\n",
      "1392/1360 [==============================] - 10s - loss: 0.0269 - val_loss: 0.0155\n",
      "Epoch 3/10\n",
      "1392/1360 [==============================] - 10s - loss: 0.0229 - val_loss: 0.0094\n",
      "Epoch 4/10\n",
      "1392/1360 [==============================] - 10s - loss: 0.0181 - val_loss: 0.0081\n",
      "Epoch 5/10\n",
      "1392/1360 [==============================] - 10s - loss: 0.0144 - val_loss: 0.0087\n",
      "Epoch 6/10\n",
      "1392/1360 [==============================] - 10s - loss: 0.0199 - val_loss: 0.0047\n",
      "Epoch 7/10\n",
      "1392/1360 [==============================] - 10s - loss: 0.0136 - val_loss: 0.0091\n",
      "Epoch 8/10\n",
      "1392/1360 [==============================] - 10s - loss: 0.0124 - val_loss: 0.0061\n",
      "Epoch 9/10\n",
      "1392/1360 [==============================] - 10s - loss: 0.0149 - val_loss: 0.0095\n",
      "Epoch 10/10\n",
      "1392/1360 [==============================] - 10s - loss: 0.0128 - val_loss: 0.0073\n",
      "model saved.\n"
     ]
    }
   ],
   "source": [
    "model = Sequential()\n",
    "# preprocessing\n",
    "model.add(Cropping2D(cropping=((50,20), (0,0)), input_shape=(160,320,3)))\n",
    "model.add(Lambda(lambda x: x / 255, input_shape=(160,320,3)))\n",
    "\n",
    "# conv1\n",
    "model.add(Convolution2D(32, kernel_size[0], kernel_size[1], border_mode='valid'))\n",
    "model.add(Activation('relu'))\n",
    "model.add(MaxPooling2D(pool_size=pool_size))\n",
    "\n",
    "# conv2\n",
    "model.add(Convolution2D(32, kernel_size[0], kernel_size[1]))\n",
    "model.add(Activation('relu'))\n",
    "model.add(MaxPooling2D(pool_size=pool_size))\n",
    "\n",
    "# conv3\n",
    "model.add(Convolution2D(64, kernel_size[0], kernel_size[1]))\n",
    "model.add(Activation('relu'))\n",
    "model.add(MaxPooling2D(pool_size=pool_size))\n",
    "model.add(Dropout(0.5))\n",
    "model.add(Flatten())\n",
    "\n",
    "# FC1\n",
    "model.add(Dense(128))\n",
    "model.add(Activation('relu'))\n",
    "model.add(Dropout(0.5))\n",
    "\n",
    "# Output\n",
    "model.add(Dense(1))\n",
    "\n",
    "model.compile(optimizer='adam', loss='mse')\n",
    "history = model.fit_generator(train_generator,\n",
    "        samples_per_epoch=len(train_samples),\n",
    "        validation_data=validation_generator,\n",
    "        nb_val_samples=len(validation_samples),\n",
    "        nb_epoch=NB_EPOCH)\n",
    "model.save('model.h5')\n",
    "print('model saved.')"
   ]
  },
  {
   "cell_type": "code",
   "execution_count": 19,
   "metadata": {},
   "outputs": [
    {
     "name": "stdout",
     "output_type": "stream",
     "text": [
      "____________________________________________________________________________________________________\n",
      "Layer (type)                     Output Shape          Param #     Connected to                     \n",
      "====================================================================================================\n",
      "lambda_6 (Lambda)                (None, 160, 320, 3)   0           lambda_input_6[0][0]             \n",
      "____________________________________________________________________________________________________\n",
      "convolution2d_16 (Convolution2D) (None, 158, 318, 32)  896         lambda_6[0][0]                   \n",
      "____________________________________________________________________________________________________\n",
      "activation_21 (Activation)       (None, 158, 318, 32)  0           convolution2d_16[0][0]           \n",
      "____________________________________________________________________________________________________\n",
      "maxpooling2d_16 (MaxPooling2D)   (None, 79, 159, 32)   0           activation_21[0][0]              \n",
      "____________________________________________________________________________________________________\n",
      "convolution2d_17 (Convolution2D) (None, 77, 157, 32)   9248        maxpooling2d_16[0][0]            \n",
      "____________________________________________________________________________________________________\n",
      "activation_22 (Activation)       (None, 77, 157, 32)   0           convolution2d_17[0][0]           \n",
      "____________________________________________________________________________________________________\n",
      "maxpooling2d_17 (MaxPooling2D)   (None, 38, 78, 32)    0           activation_22[0][0]              \n",
      "____________________________________________________________________________________________________\n",
      "convolution2d_18 (Convolution2D) (None, 36, 76, 64)    18496       maxpooling2d_17[0][0]            \n",
      "____________________________________________________________________________________________________\n",
      "activation_23 (Activation)       (None, 36, 76, 64)    0           convolution2d_18[0][0]           \n",
      "____________________________________________________________________________________________________\n",
      "maxpooling2d_18 (MaxPooling2D)   (None, 18, 38, 64)    0           activation_23[0][0]              \n",
      "____________________________________________________________________________________________________\n",
      "dropout_11 (Dropout)             (None, 18, 38, 64)    0           maxpooling2d_18[0][0]            \n",
      "____________________________________________________________________________________________________\n",
      "flatten_6 (Flatten)              (None, 43776)         0           dropout_11[0][0]                 \n",
      "____________________________________________________________________________________________________\n",
      "dense_11 (Dense)                 (None, 128)           5603456     flatten_6[0][0]                  \n",
      "____________________________________________________________________________________________________\n",
      "activation_24 (Activation)       (None, 128)           0           dense_11[0][0]                   \n",
      "____________________________________________________________________________________________________\n",
      "dropout_12 (Dropout)             (None, 128)           0           activation_24[0][0]              \n",
      "____________________________________________________________________________________________________\n",
      "dense_12 (Dense)                 (None, 1)             129         dropout_12[0][0]                 \n",
      "====================================================================================================\n",
      "Total params: 5,632,225\n",
      "Trainable params: 5,632,225\n",
      "Non-trainable params: 0\n",
      "____________________________________________________________________________________________________\n",
      "None\n",
      "{'val_loss': [0.038417194271460176, 0.04570680228061974, 0.035626567589739956, 0.019532050122506917, 0.014130495605058968, 0.0077576161711476743, 0.015809803357115015], 'loss': [0.38244604467061061, 0.041579398230232038, 0.021936701803371823, 0.017255958747761004, 0.017154395307317889, 0.016467810078556168, 0.019857180529627306]}\n"
     ]
    }
   ],
   "source": [
    "print(model.summary())\n",
    "print(history.history)"
   ]
  },
  {
   "cell_type": "code",
   "execution_count": null,
   "metadata": {
    "collapsed": true
   },
   "outputs": [],
   "source": [
    "model = Sequential()\n",
    "model = load_model('model.h5')"
   ]
  },
  {
   "cell_type": "code",
   "execution_count": null,
   "metadata": {
    "collapsed": true
   },
   "outputs": [],
   "source": []
  }
 ],
 "metadata": {
  "kernelspec": {
   "display_name": "Python 3",
   "language": "python",
   "name": "python3"
  },
  "language_info": {
   "codemirror_mode": {
    "name": "ipython",
    "version": 3
   },
   "file_extension": ".py",
   "mimetype": "text/x-python",
   "name": "python",
   "nbconvert_exporter": "python",
   "pygments_lexer": "ipython3",
   "version": "3.5.2"
  },
  "widgets": {
   "state": {},
   "version": "1.1.2"
  }
 },
 "nbformat": 4,
 "nbformat_minor": 2
}
