{
 "cells": [
  {
   "cell_type": "markdown",
   "metadata": {},
   "source": [
    "Behavioral Cloning P3\n",
    "--"
   ]
  },
  {
   "cell_type": "code",
   "execution_count": 5,
   "metadata": {},
   "outputs": [],
   "source": [
    "from keras.models import Sequential, Model, load_model\n",
    "from keras.layers import Dense, Dropout, Activation, Flatten, Input, Lambda, Cropping2D\n",
    "from keras.layers import Convolution2D, MaxPooling2D\n",
    "from keras.utils import np_utils\n",
    "import csv\n",
    "import cv2\n",
    "import numpy as np\n",
    "from sklearn.model_selection import train_test_split\n",
    "import sklearn\n",
    "from random import shuffle\n",
    "import matplotlib.pyplot as plt\n",
    "%matplotlib inline\n",
    "use_official_data = True"
   ]
  },
  {
   "cell_type": "code",
   "execution_count": 6,
   "metadata": {
    "collapsed": true
   },
   "outputs": [],
   "source": [
    "angle_adjust = [0, 0.2, -0.2]\n",
    "def generator(samples, batch_size=32):\n",
    "    num_samples = len(samples)\n",
    "    while 1: # Loop forever so the generator never terminates\n",
    "        shuffle(samples)\n",
    "        for offset in range(0, num_samples, batch_size):\n",
    "            batch_samples = samples[offset:offset+batch_size]\n",
    "\n",
    "            images = []\n",
    "            angles = []\n",
    "            for batch_sample in batch_samples:\n",
    "                # center, left, right\n",
    "                for i in range(3):\n",
    "                    if use_official_data:\n",
    "                        name = './data/IMG/' + batch_sample[i].split('/')[-1]\n",
    "                    else:\n",
    "                        name = './IMG/' + batch_sample[i].split('/')[-1]\n",
    "                    image = cv2.imread(name)\n",
    "                    image = cv2.resize(image, (0,0), fx=0.625, fy=0.625)\n",
    "                    image = cv2.cvtColor(image, cv2.COLOR_BGR2YUV)\n",
    "                    angle = float(batch_sample[3]) + angle_adjust[i]\n",
    "                    images.append(image)\n",
    "                    angles.append(angle)\n",
    "                    # flip image and angle\n",
    "                    image_flipped = np.fliplr(image)\n",
    "                    angle_flipped = -angle\n",
    "                    images.append(image_flipped)\n",
    "                    angles.append(angle_flipped)\n",
    "\n",
    "            # trim image to only see section with road\n",
    "            X_train = np.array(images)\n",
    "            y_train = np.array(angles)\n",
    "            yield sklearn.utils.shuffle(X_train, y_train)"
   ]
  },
  {
   "cell_type": "code",
   "execution_count": 7,
   "metadata": {},
   "outputs": [],
   "source": [
    "if use_official_data:\n",
    "    drivinglog = './data/driving_log.csv'\n",
    "else:\n",
    "    drivinglog = './driving_log.csv'\n",
    "samples = []\n",
    "with open(drivinglog) as csvfile:\n",
    "    reader = csv.reader(csvfile)\n",
    "    for line in reader:\n",
    "#         if float(line[3]) == 0:\n",
    "#             continue\n",
    "        samples.append(line)\n",
    "\n",
    "BATCH_SIZE = 128\n",
    "NB_EPOCH = 15\n",
    "\n",
    "train_samples, validation_samples = train_test_split(samples, test_size=0.2)\n",
    "train_generator = generator(train_samples, batch_size=BATCH_SIZE)\n",
    "validation_generator = generator(validation_samples, batch_size=BATCH_SIZE)"
   ]
  },
  {
   "cell_type": "code",
   "execution_count": 8,
   "metadata": {},
   "outputs": [
    {
     "name": "stdout",
     "output_type": "stream",
     "text": [
      "\n"
     ]
    },
    {
     "data": {
      "image/png": "[encoded data removed]",
      "text/plain": [
       "<matplotlib.figure.Figure at 0x7f7925ba33c8>"
      ]
     },
     "metadata": {},
     "output_type": "display_data"
    }
   ],
   "source": [
    "with open(drivinglog) as csvfile:\n",
    "    angles = []\n",
    "    reader = csv.reader(csvfile)\n",
    "    for i, line in enumerate(reader):\n",
    "        if i == 0:\n",
    "            continue\n",
    "        angle = float(line[3])\n",
    "#         if angle == 0:\n",
    "#             continue\n",
    "        angles.append(angle)\n",
    "        angles.append(-angle)\n",
    "\n",
    "        angles.append(angle+0.2)\n",
    "        angles.append(angle-0.2)\n",
    "        angles.append(-angle-0.2)\n",
    "        angles.append(-angle+0.2)\n",
    "    \n",
    "    print()\n",
    "    plt.hist(angles, 100)\n",
    "    plt.show()"
   ]
  },
  {
   "cell_type": "code",
   "execution_count": 9,
   "metadata": {},
   "outputs": [
    {
     "name": "stdout",
     "output_type": "stream",
     "text": [
      "Epoch 1/15\n",
      "6144/6428 [===========================>..] - ETA: 1s - loss: 0.0425"
     ]
    },
    {
     "name": "stderr",
     "output_type": "stream",
     "text": [
      "/home/carnd/anaconda3/envs/carnd-term1/lib/python3.5/site-packages/keras/engine/training.py:1569: UserWarning: Epoch comprised more than `samples_per_epoch` samples, which might affect learning results. Set `samples_per_epoch` correctly to avoid this warning.\n",
      "  warnings.warn('Epoch comprised more than '\n"
     ]
    },
    {
     "name": "stdout",
     "output_type": "stream",
     "text": [
      "6912/6428 [================================] - 35s - loss: 0.0422 - val_loss: 0.0395\n",
      "Epoch 2/15\n",
      "6912/6428 [================================] - 25s - loss: 0.0383 - val_loss: 0.0408\n",
      "Epoch 3/15\n",
      "6912/6428 [================================] - 25s - loss: 0.0338 - val_loss: 0.0305\n",
      "Epoch 4/15\n",
      "6912/6428 [================================] - 25s - loss: 0.0295 - val_loss: 0.0262\n",
      "Epoch 5/15\n",
      "6912/6428 [================================] - 24s - loss: 0.0241 - val_loss: 0.0250\n",
      "Epoch 6/15\n",
      "7080/6428 [=================================] - 28s - loss: 0.0268 - val_loss: 0.0254\n",
      "Epoch 7/15\n",
      "6912/6428 [================================] - 24s - loss: 0.0244 - val_loss: 0.0246\n",
      "Epoch 8/15\n",
      "6912/6428 [================================] - 25s - loss: 0.0226 - val_loss: 0.0210\n",
      "Epoch 9/15\n",
      "6912/6428 [================================] - 25s - loss: 0.0209 - val_loss: 0.0196\n",
      "Epoch 10/15\n",
      "6912/6428 [================================] - 24s - loss: 0.0216 - val_loss: 0.0210\n",
      "Epoch 11/15\n",
      "6912/6428 [================================] - 25s - loss: 0.0185 - val_loss: 0.0208\n",
      "Epoch 12/15\n",
      "7080/6428 [=================================] - 25s - loss: 0.0173 - val_loss: 0.0227\n",
      "Epoch 13/15\n",
      "6912/6428 [================================] - 25s - loss: 0.0186 - val_loss: 0.0173\n",
      "Epoch 14/15\n",
      "6912/6428 [================================] - 25s - loss: 0.0181 - val_loss: 0.0191\n",
      "Epoch 15/15\n",
      "6912/6428 [================================] - 25s - loss: 0.0178 - val_loss: 0.0198\n",
      "model saved.\n"
     ]
    }
   ],
   "source": [
    "model = Sequential()\n",
    "# preprocessing\n",
    "model.add(Cropping2D(cropping=((22,12), (0,0)), input_shape=(100,200,3)))\n",
    "model.add(Lambda(lambda x: x / 255))\n",
    "\n",
    "# https://devblogs.nvidia.com/parallelforall/deep-learning-self-driving-cars/\n",
    "model.add(Convolution2D(nb_filter=8, nb_row=7, nb_col=7, subsample=(1,1), border_mode='same'))\n",
    "model.add(Activation('relu'))\n",
    "\n",
    "model.add(Convolution2D(nb_filter=16, nb_row=5, nb_col=5, subsample=(1,1), border_mode='same'))\n",
    "model.add(Activation('relu'))\n",
    "# conv1 24@43x158\n",
    "model.add(Convolution2D(nb_filter=24, nb_row=5, nb_col=5, subsample=(2,2), border_mode='valid'))\n",
    "model.add(Activation('relu'))\n",
    "# conv2 36@20x77\n",
    "model.add(Convolution2D(nb_filter=36, nb_row=5, nb_col=5, subsample=(2,2), border_mode='valid'))\n",
    "model.add(Activation('relu'))\n",
    "# conv3 48@8x37\n",
    "model.add(Convolution2D(nb_filter=48, nb_row=5, nb_col=5, subsample=(2,2), border_mode='valid'))\n",
    "model.add(Activation('relu'))\n",
    "# conv4 64@6x35\n",
    "model.add(Convolution2D(nb_filter=64, nb_row=3, nb_col=3, subsample=(1,1), border_mode='valid'))\n",
    "model.add(Activation('relu'))\n",
    "# conv5 64@4x33\n",
    "model.add(Convolution2D(nb_filter=64, nb_row=3, nb_col=3, subsample=(1,1), border_mode='valid'))\n",
    "model.add(Activation('relu'))\n",
    "model.add(Flatten())\n",
    "\n",
    "# FC1\n",
    "model.add(Dense(100))\n",
    "model.add(Activation('relu'))\n",
    "# FC2\n",
    "model.add(Dense(50))\n",
    "model.add(Activation('relu'))\n",
    "# FC3\n",
    "model.add(Dense(10))\n",
    "model.add(Activation('relu'))\n",
    "# Output\n",
    "model.add(Dense(1))\n",
    "\n",
    "model.compile(optimizer='adam', loss='mse')\n",
    "history = model.fit_generator(train_generator,\n",
    "        samples_per_epoch=len(train_samples),\n",
    "        validation_data=validation_generator,\n",
    "        nb_val_samples=len(validation_samples),\n",
    "        nb_epoch=NB_EPOCH, verbose=1)\n",
    "model.save('model.h5')\n",
    "print('model saved.')"
   ]
  },
  {
   "cell_type": "code",
   "execution_count": 11,
   "metadata": {},
   "outputs": [
    {
     "name": "stdout",
     "output_type": "stream",
     "text": [
      "dict_keys(['loss', 'val_loss'])\n"
     ]
    },
    {
     "data": {
      "image/png": "[encoded data removed]",
      "text/plain": [
       "<matplotlib.figure.Figure at 0x7f79238fac18>"
      ]
     },
     "metadata": {},
     "output_type": "display_data"
    }
   ],
   "source": [
    "print(history.history.keys())\n",
    "plt.plot(history.history['loss'])\n",
    "plt.plot(history.history['val_loss'])\n",
    "plt.title('model mean squared error loss')\n",
    "plt.ylabel('mean squared error loss')\n",
    "plt.xlabel('epoch')\n",
    "plt.legend(['training set', 'validation set'], loc='upper right')\n",
    "plt.show()"
   ]
  },
  {
   "cell_type": "code",
   "execution_count": 12,
   "metadata": {},
   "outputs": [
    {
     "name": "stdout",
     "output_type": "stream",
     "text": [
      "____________________________________________________________________________________________________\n",
      "Layer (type)                     Output Shape          Param #     Connected to                     \n",
      "====================================================================================================\n",
      "cropping2d_1 (Cropping2D)        (None, 66, 200, 3)    0           cropping2d_input_1[0][0]         \n",
      "____________________________________________________________________________________________________\n",
      "lambda_1 (Lambda)                (None, 66, 200, 3)    0           cropping2d_1[0][0]               \n",
      "____________________________________________________________________________________________________\n",
      "convolution2d_1 (Convolution2D)  (None, 66, 200, 8)    1184        lambda_1[0][0]                   \n",
      "____________________________________________________________________________________________________\n",
      "activation_1 (Activation)        (None, 66, 200, 8)    0           convolution2d_1[0][0]            \n",
      "____________________________________________________________________________________________________\n",
      "convolution2d_2 (Convolution2D)  (None, 66, 200, 16)   3216        activation_1[0][0]               \n",
      "____________________________________________________________________________________________________\n",
      "activation_2 (Activation)        (None, 66, 200, 16)   0           convolution2d_2[0][0]            \n",
      "____________________________________________________________________________________________________\n",
      "convolution2d_3 (Convolution2D)  (None, 31, 98, 24)    9624        activation_2[0][0]               \n",
      "____________________________________________________________________________________________________\n",
      "activation_3 (Activation)        (None, 31, 98, 24)    0           convolution2d_3[0][0]            \n",
      "____________________________________________________________________________________________________\n",
      "convolution2d_4 (Convolution2D)  (None, 14, 47, 36)    21636       activation_3[0][0]               \n",
      "____________________________________________________________________________________________________\n",
      "activation_4 (Activation)        (None, 14, 47, 36)    0           convolution2d_4[0][0]            \n",
      "____________________________________________________________________________________________________\n",
      "convolution2d_5 (Convolution2D)  (None, 5, 22, 48)     43248       activation_4[0][0]               \n",
      "____________________________________________________________________________________________________\n",
      "activation_5 (Activation)        (None, 5, 22, 48)     0           convolution2d_5[0][0]            \n",
      "____________________________________________________________________________________________________\n",
      "convolution2d_6 (Convolution2D)  (None, 3, 20, 64)     27712       activation_5[0][0]               \n",
      "____________________________________________________________________________________________________\n",
      "activation_6 (Activation)        (None, 3, 20, 64)     0           convolution2d_6[0][0]            \n",
      "____________________________________________________________________________________________________\n",
      "convolution2d_7 (Convolution2D)  (None, 1, 18, 64)     36928       activation_6[0][0]               \n",
      "____________________________________________________________________________________________________\n",
      "activation_7 (Activation)        (None, 1, 18, 64)     0           convolution2d_7[0][0]            \n",
      "____________________________________________________________________________________________________\n",
      "flatten_1 (Flatten)              (None, 1152)          0           activation_7[0][0]               \n",
      "____________________________________________________________________________________________________\n",
      "dense_1 (Dense)                  (None, 100)           115300      flatten_1[0][0]                  \n",
      "____________________________________________________________________________________________________\n",
      "activation_8 (Activation)        (None, 100)           0           dense_1[0][0]                    \n",
      "____________________________________________________________________________________________________\n",
      "dense_2 (Dense)                  (None, 50)            5050        activation_8[0][0]               \n",
      "____________________________________________________________________________________________________\n",
      "activation_9 (Activation)        (None, 50)            0           dense_2[0][0]                    \n",
      "____________________________________________________________________________________________________\n",
      "dense_3 (Dense)                  (None, 10)            510         activation_9[0][0]               \n",
      "____________________________________________________________________________________________________\n",
      "activation_10 (Activation)       (None, 10)            0           dense_3[0][0]                    \n",
      "____________________________________________________________________________________________________\n",
      "dense_4 (Dense)                  (None, 1)             11          activation_10[0][0]              \n",
      "====================================================================================================\n",
      "Total params: 264,419\n",
      "Trainable params: 264,419\n",
      "Non-trainable params: 0\n",
      "____________________________________________________________________________________________________\n",
      "None\n"
     ]
    }
   ],
   "source": [
    "print(model.summary())\n"
   ]
  },
  {
   "cell_type": "code",
   "execution_count": null,
   "metadata": {
    "collapsed": true
   },
   "outputs": [],
   "source": []
  }
 ],
 "metadata": {
  "anaconda-cloud": {},
  "kernelspec": {
   "display_name": "Python 3",
   "language": "python",
   "name": "python3"
  },
  "language_info": {
   "codemirror_mode": {
    "name": "ipython",
    "version": 3
   },
   "file_extension": ".py",
   "mimetype": "text/x-python",
   "name": "python",
   "nbconvert_exporter": "python",
   "pygments_lexer": "ipython3",
   "version": "3.5.2"
  },
  "widgets": {
   "state": {},
   "version": "1.1.2"
  }
 },
 "nbformat": 4,
 "nbformat_minor": 2
}
